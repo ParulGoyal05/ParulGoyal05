{
  "nbformat": 4,
  "nbformat_minor": 0,
  "metadata": {
    "kernelspec": {
      "display_name": "Python 3",
      "language": "python",
      "name": "python3"
    },
    "language_info": {
      "codemirror_mode": {
        "name": "ipython",
        "version": 3
      },
      "file_extension": ".py",
      "mimetype": "text/x-python",
      "name": "python",
      "nbconvert_exporter": "python",
      "pygments_lexer": "ipython3",
      "version": "3.7.6"
    },
    "colab": {
      "name": "Code.4 sem.ipynb",
      "provenance": []
    }
  },
  "cells": [
    {
      "cell_type": "code",
      "metadata": {
        "id": "Huc_Z_K4gV94",
        "colab": {
          "base_uri": "https://localhost:8080/"
        },
        "outputId": "87af2868-8434-4e46-ae78-ff52b694b0c1"
      },
      "source": [
        "from textblob import TextBlob\n",
        "import sys, tweepy\n",
        "\n",
        "def percent(numtor,denmtor):\n",
        " return 100*float(numtor)/float(denmtor)\n",
        "\n",
        "consumerkey=\"6wWSaM46yNVN6m3sg9Ub2eviu\";\n",
        "consumersecret=\"fMAjsqeItWXTw5g4x4On5pRuo0mJb3pqhmNGmP08V6Hi52KQHo\";\n",
        "accesstoken=\"1192348380392935425-nYPfE5d5hMhLssNGDHrboYp4H6pPAr\";\n",
        "accesstokensecret=\"xbvbdKqs4gtVyikd80VOMA9RWrVUaHFGgybftJPgyH11C\";\n",
        "\n",
        "auth=tweepy.OAuthHandler(consumer_key=consumerkey,consumer_secret=consumersecret)\n",
        "auth.set_access_token(accesstoken,accesstokensecret)\n",
        "api = tweepy.API(auth)\n",
        "\n",
        "item = input(\"enter keyword or hashtag to search about: \")\n",
        "noofitem = int(input(\"enter the number of tweets to analyze: \"))\n",
        "\n",
        "tweets=tweepy.Cursor(api.search,q=item,lang=\"English\").items(noofitem)\n",
        "\n",
        "positive = 0\n",
        "negative = 0\n",
        "nuetral = 0\n",
        "polarity = 0\n",
        "\n",
        "for tweet in tweets:\n",
        "    analysis=TextBlob(tweet.text)\n",
        "    polarity+=analysis.sentiment.polarity\n",
        "\n",
        "    if(analysis.sentiment.polarity==0):\n",
        "        nuetral+=1\n",
        "    elif (analysis.sentiment.polarity<0.0):\n",
        "        negative+=1\n",
        "    elif(analysis.sentiment.polarity>0.0):\n",
        "        positive+=1\n",
        "\n",
        "positive=percent(positive,noofitem)\n",
        "negative=percent(negative,noofitem)\n",
        "nuetral=percent(nuetral,noofitem)\n",
        "polarity=percent(polarity,noofitem)\n",
        "\n",
        "positive=format(positive,'.2f')\n",
        "negative=format(negative,'.2f')\n",
        "nuetral=format(nuetral,'.2f')\n",
        "\n",
        "if(polarity==0):\n",
        "    print(\"neutral\")\n",
        "elif (polarity < 0.0):\n",
        "    print(\"Negative\")\n",
        "elif (polarity > 0.0):\n",
        "    print(\"Positive\")"
      ],
      "execution_count": null,
      "outputs": [
        {
          "output_type": "stream",
          "text": [
            "enter keyword or hashtag to search about: covid \n",
            "enter the number of tweets to analyze: 100\n",
            "Positive\n"
          ],
          "name": "stdout"
        }
      ]
    },
    {
      "cell_type": "code",
      "source": [
        ""
      ],
      "metadata": {
        "id": "_ES0UtGNKjXj"
      },
      "execution_count": null,
      "outputs": []
    }
  ]
}